{
  "nbformat": 4,
  "nbformat_minor": 0,
  "metadata": {
    "colab": {
      "provenance": [],
      "authorship_tag": "ABX9TyNJjZUrUEQjDSn2DQNdNb8Z",
      "include_colab_link": true
    },
    "kernelspec": {
      "name": "python3",
      "display_name": "Python 3"
    },
    "language_info": {
      "name": "python"
    }
  },
  "cells": [
    {
      "cell_type": "markdown",
      "metadata": {
        "id": "view-in-github",
        "colab_type": "text"
      },
      "source": [
        "<a href=\"https://colab.research.google.com/github/charles-shaju/Charles-Shaju/blob/main/Untitled0.ipynb\" target=\"_parent\"><img src=\"https://colab.research.google.com/assets/colab-badge.svg\" alt=\"Open In Colab\"/></a>"
      ]
    },
    {
      "cell_type": "code",
      "execution_count": null,
      "metadata": {
        "colab": {
          "base_uri": "https://localhost:8080/"
        },
        "id": "C3WELLLGvUYm",
        "outputId": "a9ba1f50-2f49-494a-efa2-f988354de53f"
      },
      "outputs": [
        {
          "output_type": "stream",
          "name": "stdout",
          "text": [
            "       Area Code      Area  Item Code           Item  Element Code  \\\n",
            "0              4   Algeria       2501     Population           511   \n",
            "1              4   Algeria       2501     Population          5301   \n",
            "2              4   Algeria       2901    Grand Total           664   \n",
            "3              4   Algeria       2901    Grand Total           674   \n",
            "4              4   Algeria       2901    Grand Total           684   \n",
            "...          ...       ...        ...            ...           ...   \n",
            "60938        181  Zimbabwe       2899  Miscellaneous          5142   \n",
            "60939        181  Zimbabwe       2899  Miscellaneous           645   \n",
            "60940        181  Zimbabwe       2899  Miscellaneous           664   \n",
            "60941        181  Zimbabwe       2899  Miscellaneous           674   \n",
            "60942        181  Zimbabwe       2899  Miscellaneous           684   \n",
            "\n",
            "                                      Element             Unit     Y2014  \\\n",
            "0               Total Population - Both sexes     1000 persons  38924.00   \n",
            "1                    Domestic supply quantity      1000 tonnes      0.00   \n",
            "2               Food supply (kcal/capita/day)  kcal/capita/day   3377.00   \n",
            "3      Protein supply quantity (g/capita/day)     g/capita/day     94.90   \n",
            "4          Fat supply quantity (g/capita/day)     g/capita/day     80.06   \n",
            "...                                       ...              ...       ...   \n",
            "60938                                    Food      1000 tonnes     42.00   \n",
            "60939     Food supply quantity (kg/capita/yr)               kg      3.06   \n",
            "60940           Food supply (kcal/capita/day)  kcal/capita/day      3.00   \n",
            "60941  Protein supply quantity (g/capita/day)     g/capita/day      0.10   \n",
            "60942      Fat supply quantity (g/capita/day)     g/capita/day      0.04   \n",
            "\n",
            "          Y2015     Y2016     Y2017     Y2018  \n",
            "0      39728.00  40551.00  41389.00  42228.00  \n",
            "1          0.00      0.00      0.00      0.00  \n",
            "2       3379.00   3372.00   3341.00   3322.00  \n",
            "3         94.35     94.72     92.82     91.83  \n",
            "4         79.36     77.40     80.19     77.28  \n",
            "...         ...       ...       ...       ...  \n",
            "60938     46.00     33.00     19.00     16.00  \n",
            "60939      3.33      2.35      1.33      1.08  \n",
            "60940      4.00      3.00      1.00      1.00  \n",
            "60941      0.11      0.08      0.04      0.04  \n",
            "60942      0.05      0.03      0.02      0.01  \n",
            "\n",
            "[60943 rows x 12 columns]\n"
          ]
        }
      ],
      "source": [
        "import pandas as pd\n",
        "data = pd.read_csv(\"/content/FoodBalanceSheets_E_Africa_NOFLAG.csv\", encoding='latin-1')\n",
        "print(data)"
      ]
    },
    {
      "cell_type": "code",
      "source": [
        "country_count=data.Area.unique().size\n",
        "print(country_count)"
      ],
      "metadata": {
        "colab": {
          "base_uri": "https://localhost:8080/"
        },
        "id": "NJNP_WSSvuLQ",
        "outputId": "a8c84f34-8834-4a1a-b7d3-343bf3225e4e"
      },
      "execution_count": null,
      "outputs": [
        {
          "output_type": "stream",
          "name": "stdout",
          "text": [
            "49\n"
          ]
        }
      ]
    },
    {
      "cell_type": "code",
      "source": [
        "data.groupby(\"Element\")[\"Element\"].count()\n"
      ],
      "metadata": {
        "colab": {
          "base_uri": "https://localhost:8080/"
        },
        "id": "LRF6zENCzRGg",
        "outputId": "20e4cd70-55ff-40cc-8375-d31fc63550a4"
      },
      "execution_count": null,
      "outputs": [
        {
          "output_type": "execute_result",
          "data": {
            "text/plain": [
              "Element\n",
              "Domestic supply quantity                  5295\n",
              "Export Quantity                           4403\n",
              "Fat supply quantity (g/capita/day)        5023\n",
              "Feed                                      1319\n",
              "Food                                      4941\n",
              "Food supply (kcal/capita/day)             5014\n",
              "Food supply quantity (kg/capita/yr)       4905\n",
              "Import Quantity                           5139\n",
              "Losses                                    2009\n",
              "Other uses (non-food)                     1732\n",
              "Processing                                2010\n",
              "Production                                3881\n",
              "Protein supply quantity (g/capita/day)    5023\n",
              "Residuals                                 4655\n",
              "Seed                                       762\n",
              "Stock Variation                           4232\n",
              "Total Population - Both sexes               45\n",
              "Tourist consumption                        555\n",
              "Name: Element, dtype: int64"
            ]
          },
          "metadata": {},
          "execution_count": 11
        }
      ]
    },
    {
      "cell_type": "code",
      "source": [
        "data.Y2014.isnull().sum()"
      ],
      "metadata": {
        "colab": {
          "base_uri": "https://localhost:8080/"
        },
        "id": "zByeEdHv0M5b",
        "outputId": "3d2e3b18-e67f-4ac1-b312-0e64100a6f0c"
      },
      "execution_count": null,
      "outputs": [
        {
          "output_type": "execute_result",
          "data": {
            "text/plain": [
              "1589"
            ]
          },
          "metadata": {},
          "execution_count": 12
        }
      ]
    },
    {
      "cell_type": "code",
      "source": [
        "data.Y2014.corr(data['Element Code'],method='pearson', min_periods=1)"
      ],
      "metadata": {
        "colab": {
          "base_uri": "https://localhost:8080/"
        },
        "id": "hn5VbMT21J0L",
        "outputId": "26d448d8-8529-4c5c-ea73-1ac965d3da85"
      },
      "execution_count": null,
      "outputs": [
        {
          "output_type": "execute_result",
          "data": {
            "text/plain": [
              "0.024456819495221754"
            ]
          },
          "metadata": {},
          "execution_count": 22
        }
      ]
    },
    {
      "cell_type": "code",
      "source": [
        "data.Y2015.corr(data['Element Code'],method='pearson', min_periods=1)"
      ],
      "metadata": {
        "colab": {
          "base_uri": "https://localhost:8080/"
        },
        "id": "k7UEVSSJ2hUJ",
        "outputId": "1f4aae4f-ce47-49b3-983b-e378826713e7"
      },
      "execution_count": null,
      "outputs": [
        {
          "output_type": "execute_result",
          "data": {
            "text/plain": [
              "0.023889199301639956"
            ]
          },
          "metadata": {},
          "execution_count": 23
        }
      ]
    },
    {
      "cell_type": "code",
      "source": [
        "data.Y2016.corr(data['Element Code'],method='pearson', min_periods=1)"
      ],
      "metadata": {
        "colab": {
          "base_uri": "https://localhost:8080/"
        },
        "id": "De47nXcx3UoA",
        "outputId": "ecdbb86d-7d9d-4fbf-cf23-99f4cd0dba23"
      },
      "execution_count": null,
      "outputs": [
        {
          "output_type": "execute_result",
          "data": {
            "text/plain": [
              "0.023443997584961424"
            ]
          },
          "metadata": {},
          "execution_count": 24
        }
      ]
    },
    {
      "cell_type": "code",
      "source": [
        "data.Y2017.corr(data['Element Code'],method='pearson', min_periods=1)"
      ],
      "metadata": {
        "colab": {
          "base_uri": "https://localhost:8080/"
        },
        "id": "kYy3MNsl3Zgy",
        "outputId": "749057e1-5587-4a4c-e8a9-85f854b26597"
      },
      "execution_count": null,
      "outputs": [
        {
          "output_type": "execute_result",
          "data": {
            "text/plain": [
              "0.02425400776004575"
            ]
          },
          "metadata": {},
          "execution_count": 25
        }
      ]
    },
    {
      "cell_type": "code",
      "source": [
        "data.groupby(\"Element\")[\"Y2014\"].sum()"
      ],
      "metadata": {
        "colab": {
          "base_uri": "https://localhost:8080/"
        },
        "id": "5AcmZaNy3l5e",
        "outputId": "ee63cde7-ff43-4dae-f264-29fe75094971"
      },
      "execution_count": null,
      "outputs": [
        {
          "output_type": "execute_result",
          "data": {
            "text/plain": [
              "Element\n",
              "Domestic supply quantity                  1996716.35\n",
              "Export Quantity                            150020.64\n",
              "Fat supply quantity (g/capita/day)          10225.56\n",
              "Feed                                       216927.89\n",
              "Food                                      1212332.49\n",
              "Food supply (kcal/capita/day)              454257.00\n",
              "Food supply quantity (kg/capita/yr)         49650.63\n",
              "Import Quantity                            274144.48\n",
              "Losses                                     153223.00\n",
              "Other uses (non-food)                       78718.13\n",
              "Processing                                 282923.00\n",
              "Production                                1931287.75\n",
              "Protein supply quantity (g/capita/day)      11836.46\n",
              "Residuals                                   30149.00\n",
              "Seed                                        21922.92\n",
              "Stock Variation                             58749.83\n",
              "Total Population - Both sexes             1031585.00\n",
              "Tourist consumption                           416.00\n",
              "Name: Y2014, dtype: float64"
            ]
          },
          "metadata": {},
          "execution_count": 30
        }
      ]
    },
    {
      "cell_type": "code",
      "source": [
        "data.groupby(\"Element\")[\"Y2015\"].sum()"
      ],
      "metadata": {
        "colab": {
          "base_uri": "https://localhost:8080/"
        },
        "id": "QVyhHgRL4Kr7",
        "outputId": "3ed8e202-81dd-4f71-f3b7-ae0122bf915e"
      },
      "execution_count": null,
      "outputs": [
        {
          "output_type": "execute_result",
          "data": {
            "text/plain": [
              "Element\n",
              "Domestic supply quantity                  2021493.55\n",
              "Export Quantity                            157614.47\n",
              "Fat supply quantity (g/capita/day)          10235.74\n",
              "Feed                                       225050.22\n",
              "Food                                      1232361.10\n",
              "Food supply (kcal/capita/day)              453383.00\n",
              "Food supply quantity (kg/capita/yr)         49345.13\n",
              "Import Quantity                            267018.46\n",
              "Losses                                     155439.00\n",
              "Other uses (non-food)                       66254.41\n",
              "Processing                                 287929.00\n",
              "Production                                1947019.39\n",
              "Protein supply quantity (g/capita/day)      11833.95\n",
              "Residuals                                   30045.00\n",
              "Seed                                        23976.82\n",
              "Stock Variation                             34910.99\n",
              "Total Population - Both sexes             1058081.00\n",
              "Tourist consumption                           349.00\n",
              "Name: Y2015, dtype: float64"
            ]
          },
          "metadata": {},
          "execution_count": 32
        }
      ]
    },
    {
      "cell_type": "code",
      "source": [
        "data.groupby(\"Element\")[\"Y2017\"].sum()"
      ],
      "metadata": {
        "colab": {
          "base_uri": "https://localhost:8080/"
        },
        "id": "PwdmzNFG4YyE",
        "outputId": "e7aad5a1-20e1-4d2e-c6c0-05c121c2d583"
      },
      "execution_count": null,
      "outputs": [
        {
          "output_type": "execute_result",
          "data": {
            "text/plain": [
              "Element\n",
              "Domestic supply quantity                  2088198.10\n",
              "Export Quantity                            182338.80\n",
              "Fat supply quantity (g/capita/day)          10253.84\n",
              "Feed                                       223705.68\n",
              "Food                                      1258888.28\n",
              "Food supply (kcal/capita/day)              454681.00\n",
              "Food supply quantity (kg/capita/yr)         48690.04\n",
              "Import Quantity                            294559.09\n",
              "Losses                                     160614.00\n",
              "Other uses (non-food)                       91645.97\n",
              "Processing                                 292836.00\n",
              "Production                                2030056.89\n",
              "Protein supply quantity (g/capita/day)      11842.45\n",
              "Residuals                                   35500.00\n",
              "Seed                                        24870.14\n",
              "Stock Variation                             54316.91\n",
              "Total Population - Both sexes             1112641.00\n",
              "Tourist consumption                            91.00\n",
              "Name: Y2017, dtype: float64"
            ]
          },
          "metadata": {},
          "execution_count": 33
        }
      ]
    },
    {
      "cell_type": "code",
      "source": [
        "data.groupby(\"Element\")[\"Y2016\"].sum()"
      ],
      "metadata": {
        "colab": {
          "base_uri": "https://localhost:8080/"
        },
        "id": "q-Pd2VCv4Nze",
        "outputId": "ada395ad-b027-4885-c844-441b72059245"
      },
      "execution_count": null,
      "outputs": [
        {
          "output_type": "execute_result",
          "data": {
            "text/plain": [
              "Element\n",
              "Domestic supply quantity                  2044842.70\n",
              "Export Quantity                            151920.46\n",
              "Fat supply quantity (g/capita/day)          10102.77\n",
              "Feed                                       228958.65\n",
              "Food                                      1247022.17\n",
              "Food supply (kcal/capita/day)              451810.00\n",
              "Food supply quantity (kg/capita/yr)         48985.28\n",
              "Import Quantity                            286582.78\n",
              "Losses                                     157787.00\n",
              "Other uses (non-food)                       69563.68\n",
              "Processing                                 280631.00\n",
              "Production                                1943537.15\n",
              "Protein supply quantity (g/capita/day)      11779.69\n",
              "Residuals                                   37224.00\n",
              "Seed                                        23389.20\n",
              "Stock Variation                             33140.12\n",
              "Total Population - Both sexes             1085107.00\n",
              "Tourist consumption                            89.00\n",
              "Name: Y2016, dtype: float64"
            ]
          },
          "metadata": {},
          "execution_count": 31
        }
      ]
    }
  ]
}